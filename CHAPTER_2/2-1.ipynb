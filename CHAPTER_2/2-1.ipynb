{
 "cells": [
  {
   "cell_type": "code",
   "execution_count": 33,
   "metadata": {},
   "outputs": [
    {
     "data": {
      "text/html": [
       "<div>\n",
       "<style scoped>\n",
       "    .dataframe tbody tr th:only-of-type {\n",
       "        vertical-align: middle;\n",
       "    }\n",
       "\n",
       "    .dataframe tbody tr th {\n",
       "        vertical-align: top;\n",
       "    }\n",
       "\n",
       "    .dataframe thead th {\n",
       "        text-align: right;\n",
       "    }\n",
       "</style>\n",
       "<table border=\"1\" class=\"dataframe\">\n",
       "  <thead>\n",
       "    <tr style=\"text-align: right;\">\n",
       "      <th></th>\n",
       "      <th>매출일</th>\n",
       "      <th>2017-01-01 00:00:00</th>\n",
       "      <th>2017-02-01 00:00:00</th>\n",
       "      <th>2017-03-01 00:00:00</th>\n",
       "    </tr>\n",
       "    <tr>\n",
       "      <th>점포ID</th>\n",
       "      <th>상품명</th>\n",
       "      <th></th>\n",
       "      <th></th>\n",
       "      <th></th>\n",
       "    </tr>\n",
       "  </thead>\n",
       "  <tbody>\n",
       "    <tr>\n",
       "      <th rowspan=\"2\" valign=\"top\">11</th>\n",
       "      <th>상품 A</th>\n",
       "      <td>57500.0</td>\n",
       "      <td>NaN</td>\n",
       "      <td>NaN</td>\n",
       "    </tr>\n",
       "    <tr>\n",
       "      <th>상품 B</th>\n",
       "      <td>2400.0</td>\n",
       "      <td>5800.0</td>\n",
       "      <td>12400.0</td>\n",
       "    </tr>\n",
       "    <tr>\n",
       "      <th>12</th>\n",
       "      <th>상품 A</th>\n",
       "      <td>NaN</td>\n",
       "      <td>57500.0</td>\n",
       "      <td>60000.0</td>\n",
       "    </tr>\n",
       "  </tbody>\n",
       "</table>\n",
       "</div>"
      ],
      "text/plain": [
       "매출일        2017-01-01  2017-02-01  2017-03-01\n",
       "점포ID 상품명                                     \n",
       "11   상품 A     57500.0         NaN         NaN\n",
       "     상품 B      2400.0      5800.0     12400.0\n",
       "12   상품 A         NaN     57500.0     60000.0"
      ]
     },
     "execution_count": 33,
     "metadata": {},
     "output_type": "execute_result"
    }
   ],
   "source": [
    "import pandas as pd\n",
    "\n",
    "#트랜잭션 테이블 로드\n",
    "df1 = pd.read_excel(u'판매 데이터.xlsx', u'판매 이력')\n",
    "df2 = pd.read_excel(u'판매 데이터.xlsx', u'상품')\n",
    "df3 = pd.merge(df1, df2, on=u'상품ID')\n",
    "\n",
    "df3\n",
    "\n",
    "htable = df3.pivot_table(u'금액', [u'점포ID', u'상품명'], u'매출일', aggfunc='sum')\n",
    "htable\n"
   ]
  },
  {
   "cell_type": "code",
   "execution_count": 30,
   "metadata": {},
   "outputs": [
    {
     "data": {
      "text/html": [
       "<div>\n",
       "<style scoped>\n",
       "    .dataframe tbody tr th:only-of-type {\n",
       "        vertical-align: middle;\n",
       "    }\n",
       "\n",
       "    .dataframe tbody tr th {\n",
       "        vertical-align: top;\n",
       "    }\n",
       "\n",
       "    .dataframe thead th {\n",
       "        text-align: right;\n",
       "    }\n",
       "</style>\n",
       "<table border=\"1\" class=\"dataframe\">\n",
       "  <thead>\n",
       "    <tr style=\"text-align: right;\">\n",
       "      <th></th>\n",
       "      <th>매출일</th>\n",
       "      <th>점포ID</th>\n",
       "      <th>상품ID</th>\n",
       "      <th>고객ID</th>\n",
       "      <th>금액</th>\n",
       "      <th>상품 카테고리</th>\n",
       "    </tr>\n",
       "  </thead>\n",
       "  <tbody>\n",
       "    <tr>\n",
       "      <th>0</th>\n",
       "      <td>2017-01-01</td>\n",
       "      <td>11</td>\n",
       "      <td>101</td>\n",
       "      <td>1001</td>\n",
       "      <td>57500</td>\n",
       "      <td>식료품</td>\n",
       "    </tr>\n",
       "    <tr>\n",
       "      <th>3</th>\n",
       "      <td>2017-01-01</td>\n",
       "      <td>11</td>\n",
       "      <td>102</td>\n",
       "      <td>1002</td>\n",
       "      <td>2400</td>\n",
       "      <td>그 외</td>\n",
       "    </tr>\n",
       "  </tbody>\n",
       "</table>\n",
       "</div>"
      ],
      "text/plain": [
       "         매출일  점포ID  상품ID  고객ID     금액 상품 카테고리\n",
       "0 2017-01-01    11   101  1001  57500     식료품\n",
       "3 2017-01-01    11   102  1002   2400     그 외"
      ]
     },
     "execution_count": 30,
     "metadata": {},
     "output_type": "execute_result"
    }
   ],
   "source": [
    "def category(row):\n",
    "    return {101:u'식료품'}.get(row[u'상품ID'], u'그 외')\n",
    "df1[u'상품 카테고리'] = df1.apply(category, axis=1)\n",
    "\n",
    "df_sort = df1.sort_values('매출일')\n",
    "df_sort.head(2)"
   ]
  }
 ],
 "metadata": {
  "kernelspec": {
   "display_name": "Python 3",
   "language": "python",
   "name": "python3"
  },
  "language_info": {
   "codemirror_mode": {
    "name": "ipython",
    "version": 3
   },
   "file_extension": ".py",
   "mimetype": "text/x-python",
   "name": "python",
   "nbconvert_exporter": "python",
   "pygments_lexer": "ipython3",
   "version": "3.6.5"
  }
 },
 "nbformat": 4,
 "nbformat_minor": 2
}
